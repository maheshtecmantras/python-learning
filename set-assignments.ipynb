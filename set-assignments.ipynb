{
 "cells": [
  {
   "cell_type": "markdown",
   "id": "b24ef738",
   "metadata": {},
   "source": [
    "# Module 3: Data Structures Assignments"
   ]
  },
  {
   "cell_type": "markdown",
   "id": "7fa920e0",
   "metadata": {},
   "source": [
    "## Lesson 3.3: Sets\n",
    "### Assignment 1: Creating and Accessing Sets\n",
    "\n",
    "Create a set with the first 10 positive integers. Print the set."
   ]
  },
  {
   "cell_type": "code",
   "execution_count": 1,
   "id": "82fc7e7d",
   "metadata": {},
   "outputs": [
    {
     "data": {
      "text/plain": [
       "{1, 2, 3, 4, 5, 6, 7, 8, 9, 10}"
      ]
     },
     "execution_count": 1,
     "metadata": {},
     "output_type": "execute_result"
    }
   ],
   "source": [
    "number = set(range(1,11))\n",
    "number"
   ]
  },
  {
   "cell_type": "markdown",
   "id": "b9b4f2ee",
   "metadata": {},
   "source": [
    "### Assignment 2: Adding and Removing Elements\n",
    "\n",
    "Add the number 11 to the set created in Assignment 1. Then remove the number 1 from the set. Print the modified set."
   ]
  },
  {
   "cell_type": "code",
   "execution_count": 3,
   "id": "b437a785",
   "metadata": {},
   "outputs": [
    {
     "name": "stdout",
     "output_type": "stream",
     "text": [
      "11 number added set  {1, 2, 3, 4, 5, 6, 7, 8, 9, 10, 11}\n",
      "Modified set is  {2, 3, 4, 5, 6, 7, 8, 9, 10, 11}\n"
     ]
    }
   ],
   "source": [
    "number = set(range(1,11))\n",
    "number.add(11)\n",
    "\n",
    "print(\"11 number added set \", number)\n",
    "\n",
    "number.remove(1)\n",
    "print(\"Modified set is \", number)"
   ]
  },
  {
   "cell_type": "markdown",
   "id": "9839e9bf",
   "metadata": {},
   "source": [
    "### Assignment 3: Set Operations\n",
    "\n",
    "Create two sets: one with the first 5 positive integers and another with the first 5 even integers. Perform and print the results of union, intersection, difference, and symmetric difference operations on these sets."
   ]
  },
  {
   "cell_type": "code",
   "execution_count": 7,
   "id": "bbe34347",
   "metadata": {},
   "outputs": [
    {
     "name": "stdout",
     "output_type": "stream",
     "text": [
      "Union is  {1, 2, 3, 4, 5, 6, 8, 10}\n",
      "Intersection is  {2, 4}\n",
      "Difference is  {1, 3, 5}\n",
      "Symmetric difference is  {1, 3, 5, 6, 8, 10}\n"
     ]
    }
   ],
   "source": [
    "set1 = {1,2,3,4,5}\n",
    "set2 = {2,4,6,8,10}\n",
    "\n",
    "union = set1.union(set2)\n",
    "print(\"Union is \", union)\n",
    "\n",
    "intersection = set1.intersection(set2)\n",
    "print(\"Intersection is \", intersection)\n",
    "\n",
    "difference = set1.difference(set2)\n",
    "print(\"Difference is \", difference)\n",
    "\n",
    "symmetric_difference = set1.symmetric_difference(set2)\n",
    "print(\"Symmetric difference is \", symmetric_difference)"
   ]
  },
  {
   "cell_type": "markdown",
   "id": "4fe47d8c",
   "metadata": {},
   "source": [
    "### Assignment 4: Set Comprehensions\n",
    "\n",
    "Create a new set containing the squares of the first 10 positive integers using a set comprehension. Print the new set."
   ]
  },
  {
   "cell_type": "code",
   "execution_count": 8,
   "id": "eecff2ca",
   "metadata": {},
   "outputs": [
    {
     "data": {
      "text/plain": [
       "{1, 4, 9, 16, 25, 36, 49, 64, 81, 100}"
      ]
     },
     "execution_count": 8,
     "metadata": {},
     "output_type": "execute_result"
    }
   ],
   "source": [
    "set_of_square = {i * i for i in range(1,11)}\n",
    "set_of_square"
   ]
  },
  {
   "cell_type": "markdown",
   "id": "f392a2ee",
   "metadata": {},
   "source": [
    "### Assignment 5: Filtering Sets\n",
    "\n",
    "Create a new set containing only the even numbers from the set created in Assignment 1 using a set comprehension. Print the new set."
   ]
  },
  {
   "cell_type": "code",
   "execution_count": 9,
   "id": "cd503942",
   "metadata": {},
   "outputs": [
    {
     "data": {
      "text/plain": [
       "{2, 4, 6, 8, 10}"
      ]
     },
     "execution_count": 9,
     "metadata": {},
     "output_type": "execute_result"
    }
   ],
   "source": [
    "even_number = {i for i in range(1,11) if i%2 == 0}\n",
    "even_number"
   ]
  },
  {
   "cell_type": "markdown",
   "id": "de95a442",
   "metadata": {},
   "source": [
    "### Assignment 6: Set Methods\n",
    "\n",
    "Create a set with duplicate elements and remove the duplicates using set methods. Print the modified set."
   ]
  },
  {
   "cell_type": "code",
   "execution_count": 10,
   "id": "bfb8d169",
   "metadata": {},
   "outputs": [
    {
     "data": {
      "text/plain": [
       "{1, 2, 3, 4, 5}"
      ]
     },
     "execution_count": 10,
     "metadata": {},
     "output_type": "execute_result"
    }
   ],
   "source": [
    "set1 = {1,2,3,4,5,1,2,3,4}\n",
    "set1"
   ]
  },
  {
   "cell_type": "markdown",
   "id": "4a7a6658",
   "metadata": {},
   "source": [
    "### Assignment 7: Subsets and Supersets\n",
    "\n",
    "Create two sets: one with the first 5 positive integers and another with the first 3 positive integers. Check if the second set is a subset of the first set and if the first set is a superset of the second set. Print the results."
   ]
  },
  {
   "cell_type": "code",
   "execution_count": 13,
   "id": "7be3bb2b",
   "metadata": {},
   "outputs": [
    {
     "name": "stdout",
     "output_type": "stream",
     "text": [
      "Subset answer True\n",
      "Superset answer  True\n"
     ]
    }
   ],
   "source": [
    "set1 = {1,2,3,4,5}\n",
    "set2 = {1,2,3}\n",
    "\n",
    "sub_set = set2.issubset(set1)\n",
    "print(\"Subset answer\", sub_set)\n",
    "\n",
    "super_set = set1.issuperset(set2)\n",
    "print(\"Superset answer \", super_set)"
   ]
  },
  {
   "cell_type": "markdown",
   "id": "1209841b",
   "metadata": {},
   "source": [
    "### Assignment 8: Frozenset\n",
    "\n",
    "Create a frozenset with the first 5 positive integers. Print the frozenset."
   ]
  },
  {
   "cell_type": "code",
   "execution_count": 16,
   "id": "0fd8442a",
   "metadata": {},
   "outputs": [
    {
     "data": {
      "text/plain": [
       "frozenset({1, 2, 3, 4, 5})"
      ]
     },
     "execution_count": 16,
     "metadata": {},
     "output_type": "execute_result"
    }
   ],
   "source": [
    "frozen_set = frozenset([1,2,3,4,5])\n",
    "frozen_set"
   ]
  },
  {
   "cell_type": "markdown",
   "id": "47eb9b40",
   "metadata": {},
   "source": [
    "### Assignment 9: Set and List Conversion\n",
    "\n",
    "Create a set with the first 5 positive integers. Convert it to a list, append the number 6, and convert it back to a set. Print the resulting set."
   ]
  },
  {
   "cell_type": "code",
   "execution_count": 19,
   "id": "49dfa140",
   "metadata": {},
   "outputs": [
    {
     "name": "stdout",
     "output_type": "stream",
     "text": [
      "Converted to list  [1, 2, 3, 4, 5, 6]\n",
      "Converted to set  {1, 2, 3, 4, 5, 6}\n"
     ]
    }
   ],
   "source": [
    "set1 = {1,2,3,4,5}\n",
    "\n",
    "convert_to_list = list(set1)\n",
    "convert_to_list.append(6)\n",
    "print(\"Converted to list \", convert_to_list)\n",
    "\n",
    "convert_to_set = set(convert_to_list)\n",
    "print(\"Converted to set \", convert_to_set)\n",
    "\n"
   ]
  },
  {
   "cell_type": "markdown",
   "id": "96c040c6",
   "metadata": {},
   "source": [
    "### Assignment 10: Set and Dictionary\n",
    "\n",
    "Create a dictionary with set keys and integer values. Print the dictionary."
   ]
  },
  {
   "cell_type": "code",
   "execution_count": 20,
   "id": "2552db6a",
   "metadata": {},
   "outputs": [
    {
     "ename": "TypeError",
     "evalue": "unhashable type: 'set'",
     "output_type": "error",
     "traceback": [
      "\u001b[0;31m---------------------------------------------------------------------------\u001b[0m",
      "\u001b[0;31mTypeError\u001b[0m                                 Traceback (most recent call last)",
      "Cell \u001b[0;32mIn[20], line 1\u001b[0m\n\u001b[0;32m----> 1\u001b[0m dis \u001b[38;5;241m=\u001b[39m {{\u001b[38;5;241m1\u001b[39m,\u001b[38;5;241m2\u001b[39m}: \u001b[38;5;241m50\u001b[39m, {\u001b[38;5;241m3\u001b[39m,\u001b[38;5;241m4\u001b[39m}: \u001b[38;5;241m70\u001b[39m, {\u001b[38;5;241m5\u001b[39m,\u001b[38;5;241m6\u001b[39m}: \u001b[38;5;241m40\u001b[39m}\n\u001b[1;32m      2\u001b[0m dis\n",
      "\u001b[0;31mTypeError\u001b[0m: unhashable type: 'set'"
     ]
    }
   ],
   "source": [
    "dis = {{1,2}: 50, {3,4}: 70, {5,6}: 40}\n",
    "dis"
   ]
  },
  {
   "cell_type": "code",
   "execution_count": 21,
   "id": "3d8ce42a",
   "metadata": {},
   "outputs": [
    {
     "data": {
      "text/plain": [
       "{frozenset({1, 2}): 50, frozenset({3, 4}): 70, frozenset({5, 6}): 40}"
      ]
     },
     "execution_count": 21,
     "metadata": {},
     "output_type": "execute_result"
    }
   ],
   "source": [
    "dis = {frozenset({1,2}): 50, frozenset({3,4}): 70, frozenset({5,6}): 40}\n",
    "dis"
   ]
  },
  {
   "cell_type": "markdown",
   "id": "10f2bde7",
   "metadata": {},
   "source": [
    "### Assignment 11: Iterating Over Sets\n",
    "\n",
    "Create a set and iterate over the elements, printing each element."
   ]
  },
  {
   "cell_type": "code",
   "execution_count": 22,
   "id": "88885253",
   "metadata": {},
   "outputs": [
    {
     "name": "stdout",
     "output_type": "stream",
     "text": [
      "1\n",
      "2\n",
      "3\n",
      "4\n",
      "5\n",
      "6\n"
     ]
    }
   ],
   "source": [
    "set1 = {1,2,3,4,5,6}\n",
    "\n",
    "for i in set1:\n",
    "    print(i)"
   ]
  },
  {
   "cell_type": "markdown",
   "id": "3d8179c7",
   "metadata": {},
   "source": [
    "### Assignment 12: Removing Elements from Sets\n",
    "\n",
    "Create a set and remove elements from it until it is empty. Print the set after each removal."
   ]
  },
  {
   "cell_type": "code",
   "execution_count": 23,
   "id": "1e1d3d49",
   "metadata": {},
   "outputs": [
    {
     "name": "stdout",
     "output_type": "stream",
     "text": [
      "Removed data  1\n",
      "Updated set  {2, 3, 4, 5}\n",
      "Removed data  2\n",
      "Updated set  {3, 4, 5}\n",
      "Removed data  3\n",
      "Updated set  {4, 5}\n",
      "Removed data  4\n",
      "Updated set  {5}\n",
      "Removed data  5\n",
      "Updated set  set()\n"
     ]
    }
   ],
   "source": [
    "set1 = {1,2,3,4,5}\n",
    "\n",
    "while set1:\n",
    "    removed_element = set1.pop()\n",
    "    print(\"Removed data \", removed_element)\n",
    "    print(\"Updated set \", set1)"
   ]
  },
  {
   "cell_type": "markdown",
   "id": "9fe0e201",
   "metadata": {},
   "source": [
    "### Assignment 13: Set Symmetric Difference Update\n",
    "\n",
    "Create two sets and update the first set with the symmetric difference of the two sets. Print the modified first set."
   ]
  },
  {
   "cell_type": "code",
   "execution_count": 24,
   "id": "abc3e98c",
   "metadata": {},
   "outputs": [
    {
     "data": {
      "text/plain": [
       "{2, 3, 5, 6}"
      ]
     },
     "execution_count": 24,
     "metadata": {},
     "output_type": "execute_result"
    }
   ],
   "source": [
    "set1 = {1,2,3,4}\n",
    "set2 = {1,4,5,6}\n",
    "\n",
    "set1.symmetric_difference_update(set2)\n",
    "set1"
   ]
  },
  {
   "cell_type": "markdown",
   "id": "bc355e4f",
   "metadata": {},
   "source": [
    "### Assignment 14: Set Membership Testing\n",
    "\n",
    "Create a set and test if certain elements are present in the set. Print the results."
   ]
  },
  {
   "cell_type": "code",
   "execution_count": 27,
   "id": "5b4009e3",
   "metadata": {},
   "outputs": [
    {
     "data": {
      "text/plain": [
       "True"
      ]
     },
     "execution_count": 27,
     "metadata": {},
     "output_type": "execute_result"
    }
   ],
   "source": [
    "set1 = {1,2,3,4,5}\n",
    "\n",
    "check_element = 1 in set1\n",
    "check_element"
   ]
  },
  {
   "cell_type": "markdown",
   "id": "4c6ee565",
   "metadata": {},
   "source": [
    "### Assignment 15: Set of Tuples\n",
    "\n",
    "Create a set containing tuples, where each tuple contains two elements. Print the set."
   ]
  },
  {
   "cell_type": "code",
   "execution_count": 28,
   "id": "9604876d",
   "metadata": {},
   "outputs": [
    {
     "data": {
      "text/plain": [
       "{(1, 2), (3, 4), (5, 6)}"
      ]
     },
     "execution_count": 28,
     "metadata": {},
     "output_type": "execute_result"
    }
   ],
   "source": [
    "set1 = {(1,2), (3,4), (5,6)}\n",
    "set1"
   ]
  }
 ],
 "metadata": {
  "kernelspec": {
   "display_name": "Python [conda env:base] *",
   "language": "python",
   "name": "conda-base-py"
  },
  "language_info": {
   "codemirror_mode": {
    "name": "ipython",
    "version": 3
   },
   "file_extension": ".py",
   "mimetype": "text/x-python",
   "name": "python",
   "nbconvert_exporter": "python",
   "pygments_lexer": "ipython3",
   "version": "3.12.7"
  }
 },
 "nbformat": 4,
 "nbformat_minor": 5
}
