{
 "cells": [
  {
   "cell_type": "markdown",
   "metadata": {},
   "source": [
    "# Module 3: Data Structures Assignments"
   ]
  },
  {
   "cell_type": "markdown",
   "metadata": {},
   "source": [
    "## Lesson 3.1: Lists\n",
    "### Assignment 1: Creating and Accessing Lists\n",
    "\n",
    "Create a list of the first 20 positive integers. Print the list."
   ]
  },
  {
   "cell_type": "code",
   "execution_count": null,
   "metadata": {},
   "outputs": [
    {
     "name": "stdout",
     "output_type": "stream",
     "text": [
      "[1, 2, 3, 4, 5, 6, 7, 8, 9, 10, 11, 12, 13, 14, 15, 16, 17, 18, 19, 20]\n"
     ]
    }
   ],
   "source": [
    "del list\n",
    "lis = list(range(1, 21))\n",
    "print(lis)"
   ]
  },
  {
   "cell_type": "markdown",
   "metadata": {},
   "source": [
    "### Assignment 2: Accessing List Elements\n",
    "\n",
    "Print the first, middle, and last elements of the list created in Assignment 1."
   ]
  },
  {
   "cell_type": "code",
   "execution_count": 24,
   "metadata": {},
   "outputs": [
    {
     "name": "stdout",
     "output_type": "stream",
     "text": [
      "First element is: 1\n",
      "Middle element is: 11\n",
      "Last element is: 20\n"
     ]
    }
   ],
   "source": [
    "lis = list(range(1, 21))\n",
    "middle = len(lis) // 2\n",
    "print(f\"First element is: {lis[0]}\")\n",
    "print(f\"Middle element is: {lis[middle]}\")\n",
    "print(f\"Last element is: {lis[-1]}\")\n"
   ]
  },
  {
   "cell_type": "markdown",
   "metadata": {},
   "source": [
    "### Assignment 3: List Slicing\n",
    "\n",
    "Print the first five elements, the last five elements, and the elements from index 5 to 15 of the list created in Assignment 1."
   ]
  },
  {
   "cell_type": "code",
   "execution_count": 31,
   "metadata": {},
   "outputs": [
    {
     "name": "stdout",
     "output_type": "stream",
     "text": [
      "First five number is: [1, 2, 3, 4, 5]\n",
      "Last five number is: [16, 17, 18, 19, 20]\n",
      "5 to 15 number is: [6, 7, 8, 9, 10, 11, 12, 13, 14, 15]\n"
     ]
    }
   ],
   "source": [
    "lis = list(range(1, 21))\n",
    "\n",
    "print(f\"First five number is: {lis[:5]}\")\n",
    "print(f\"Last five number is: {lis[-5:]}\")\n",
    "print(f\"5 to 15 number is: {lis[5:15]}\")"
   ]
  },
  {
   "cell_type": "markdown",
   "metadata": {},
   "source": [
    "### Assignment 4: List Comprehensions\n",
    "\n",
    "Create a new list containing the squares of the first 10 positive integers using a list comprehension. Print the new list."
   ]
  },
  {
   "cell_type": "code",
   "execution_count": 33,
   "metadata": {},
   "outputs": [
    {
     "data": {
      "text/plain": [
       "[1, 4, 9, 16, 25, 36, 49, 64, 81, 100]"
      ]
     },
     "execution_count": 33,
     "metadata": {},
     "output_type": "execute_result"
    }
   ],
   "source": [
    "lis = [i * i for i in range(1,11)]\n",
    "lis"
   ]
  },
  {
   "cell_type": "markdown",
   "metadata": {},
   "source": [
    "### Assignment 5: Filtering Lists\n",
    "\n",
    "Create a new list containing only the even numbers from the list created in Assignment 1 using a list comprehension. Print the new list."
   ]
  },
  {
   "cell_type": "code",
   "execution_count": 34,
   "metadata": {},
   "outputs": [
    {
     "data": {
      "text/plain": [
       "[2, 4, 6, 8, 10, 12, 14, 16, 18, 20]"
      ]
     },
     "execution_count": 34,
     "metadata": {},
     "output_type": "execute_result"
    }
   ],
   "source": [
    "lis = [i for i in range(1,21) if i % 2 == 0]\n",
    "lis"
   ]
  },
  {
   "cell_type": "markdown",
   "metadata": {},
   "source": [
    "### Assignment 6: List Methods\n",
    "\n",
    "Create a list of random numbers and sort it in ascending and descending order. Remove the duplicates from the list and print the modified list."
   ]
  },
  {
   "cell_type": "code",
   "execution_count": 43,
   "metadata": {},
   "outputs": [
    {
     "name": "stdout",
     "output_type": "stream",
     "text": [
      "Random number [5, 3, 8, 10, 8, 13, 18, 11, 10, 1, 17, 12, 2, 4, 1]\n",
      "Remove duplicate number  [1, 2, 3, 4, 5, 8, 10, 11, 12, 13, 17, 18]\n",
      "Ascending order  [1, 2, 3, 4, 5, 8, 10, 11, 12, 13, 17, 18]\n",
      "Descending order  [18, 17, 13, 12, 11, 10, 8, 5, 4, 3, 2, 1]\n"
     ]
    }
   ],
   "source": [
    "import random\n",
    "\n",
    "lis = [random.randint(1, 20) for _ in range(15)]\n",
    "print(\"Random number\", lis)\n",
    "\n",
    "remove_duplicate = list(set(lis))\n",
    "print(\"Remove duplicate number \", remove_duplicate)\n",
    "\n",
    "asc = sorted(remove_duplicate)\n",
    "print(\"Ascending order \", asc)\n",
    "\n",
    "dsc = sorted(remove_duplicate, reverse=True)\n",
    "print(\"Descending order \", dsc)\n"
   ]
  },
  {
   "cell_type": "markdown",
   "metadata": {},
   "source": [
    "### Assignment 7: Nested Lists\n",
    "\n",
    "Create a nested list representing a 3x3 matrix and print the matrix. Access and print the element at the second row and third column."
   ]
  },
  {
   "cell_type": "code",
   "execution_count": null,
   "metadata": {},
   "outputs": [
    {
     "name": "stdout",
     "output_type": "stream",
     "text": [
      "[1, 2, 3]\n",
      "[4, 5, 6]\n",
      "[7, 8, 9]\n"
     ]
    }
   ],
   "source": [
    "matrix = [\n",
    "    [1, 2, 3],\n",
    "    [4, 5, 6],\n",
    "    [7, 8, 9]\n",
    "]\n",
    "\n",
    "for i in matrix:\n",
    "    print(i)\n",
    "\n",
    "print(\"Second row and third column\")    "
   ]
  },
  {
   "cell_type": "markdown",
   "metadata": {},
   "source": [
    "### Assignment 8: List of Dictionaries\n",
    "\n",
    "Create a list of dictionaries where each dictionary represents a student with keys 'name' and 'score'. Sort the list of dictionaries by the 'score' in descending order and print the sorted list."
   ]
  },
  {
   "cell_type": "code",
   "execution_count": 75,
   "metadata": {},
   "outputs": [
    {
     "data": {
      "text/plain": [
       "[{'name': 'Jigar', 'score': 92},\n",
       " {'name': 'MAhesh', 'score': 85},\n",
       " {'name': 'Divya', 'score': 78}]"
      ]
     },
     "execution_count": 75,
     "metadata": {},
     "output_type": "execute_result"
    }
   ],
   "source": [
    "students = [\n",
    "    {'name': 'MAhesh', 'score': 85},\n",
    "    {'name': 'Jigar', 'score': 92},\n",
    "    {'name': 'Divya', 'score': 78}\n",
    "]\n",
    "\n",
    "sorted_students = sorted(students, key=lambda x: x['score'], reverse=True)\n",
    "sorted_students"
   ]
  },
  {
   "cell_type": "markdown",
   "metadata": {},
   "source": [
    "### Assignment 9: Matrix Transposition\n",
    "\n",
    "Write a function that takes a 3x3 matrix (nested list) as input and returns its transpose. Print the original and transposed matrices."
   ]
  },
  {
   "cell_type": "code",
   "execution_count": 47,
   "metadata": {},
   "outputs": [
    {
     "name": "stdout",
     "output_type": "stream",
     "text": [
      "[1, 4, 7]\n",
      "[2, 5, 8]\n",
      "[3, 6, 9]\n"
     ]
    }
   ],
   "source": [
    "matrix = [\n",
    "    [1, 2, 3],\n",
    "    [4, 5, 6],\n",
    "    [7, 8, 9]\n",
    "]\n",
    "\n",
    "new_list = []\n",
    "\n",
    "for i in range(3):\n",
    "    raw = []\n",
    "    for p in range(3):\n",
    "        raw.append(matrix[p][i])\n",
    "    new_list.append(raw)\n",
    "\n",
    "\n",
    "for data in new_list:\n",
    "    print(data)\n"
   ]
  },
  {
   "cell_type": "markdown",
   "metadata": {},
   "source": [
    "### Assignment 10: Flattening a Nested List\n",
    "\n",
    "Write a function that takes a nested list and flattens it into a single list. Print the original and flattened lists.\n"
   ]
  },
  {
   "cell_type": "code",
   "execution_count": 48,
   "metadata": {},
   "outputs": [
    {
     "name": "stdout",
     "output_type": "stream",
     "text": [
      "Original List: [[1, 2], [3, 4], [5, 6]]\n",
      "Flattens List: [1, 2, 3, 4, 5, 6]\n"
     ]
    }
   ],
   "source": [
    "original = [[1, 2], [3, 4], [5, 6]]\n",
    "\n",
    "def flattens(lis):\n",
    "    flattens_list = []\n",
    "    for i in lis:\n",
    "        for p in i:\n",
    "            flattens_list.append(p)\n",
    "    return flattens_list\n",
    "\n",
    "flattens_data = flattens(original)\n",
    "\n",
    "print(\"Original List:\", original)\n",
    "print(\"Flattens List:\", flattens_data)"
   ]
  },
  {
   "cell_type": "markdown",
   "metadata": {},
   "source": [
    "### Assignment 11: List Manipulation\n",
    "\n",
    "Create a list of the first 10 positive integers. Remove the elements at indices 2, 4, and 6, and insert the element '99' at index 5. Print the modified list."
   ]
  },
  {
   "cell_type": "code",
   "execution_count": 52,
   "metadata": {},
   "outputs": [
    {
     "data": {
      "text/plain": [
       "[1, 2, 4, 6, 8, 99, 9, 10]"
      ]
     },
     "execution_count": 52,
     "metadata": {},
     "output_type": "execute_result"
    }
   ],
   "source": [
    "del list\n",
    "list = list(range(1,11))\n",
    "\n",
    "del list[6]\n",
    "del list[4]\n",
    "del list[2]\n",
    "\n",
    "list.insert(5, 99)\n",
    "\n",
    "list\n"
   ]
  },
  {
   "cell_type": "markdown",
   "metadata": {},
   "source": [
    "### Assignment 12: List Zipping\n",
    "\n",
    "Create two lists of the same length. Use the `zip` function to combine these lists into a list of tuples and print the result."
   ]
  },
  {
   "cell_type": "code",
   "execution_count": 59,
   "metadata": {},
   "outputs": [
    {
     "data": {
      "text/plain": [
       "[('Mahesh', 85), ('Jigar', 90), ('Keyur', 95)]"
      ]
     },
     "execution_count": 59,
     "metadata": {},
     "output_type": "execute_result"
    }
   ],
   "source": [
    "names = [\"Mahesh\", \"Jigar\", \"Keyur\"]\n",
    "number = [85, 90, 95]\n",
    "\n",
    "\n",
    "combine = list(zip(names, number))\n",
    "combine"
   ]
  },
  {
   "cell_type": "markdown",
   "metadata": {},
   "source": [
    "### Assignment 13: List Reversal\n",
    "\n",
    "Write a function that takes a list and returns a new list with the elements in reverse order. Print the original and reversed lists."
   ]
  },
  {
   "cell_type": "code",
   "execution_count": 61,
   "metadata": {},
   "outputs": [
    {
     "name": "stdout",
     "output_type": "stream",
     "text": [
      "Original List: [1, 2, 3, 4, 5]\n",
      "Reversed List: [5, 4, 3, 2, 1]\n"
     ]
    }
   ],
   "source": [
    "original = [1,2,3,4,5]\n",
    "\n",
    "def reverse(rever):\n",
    "    return rever[::-1]\n",
    "\n",
    "reversed = reverse(original)\n",
    "\n",
    "print(\"Original List:\", original)\n",
    "print(\"Reversed List:\", reversed)"
   ]
  },
  {
   "cell_type": "markdown",
   "metadata": {},
   "source": [
    "### Assignment 14: List Rotation\n",
    "\n",
    "Write a function that rotates a list by n positions. Print the original and rotated lists."
   ]
  },
  {
   "cell_type": "code",
   "execution_count": 63,
   "metadata": {},
   "outputs": [
    {
     "name": "stdout",
     "output_type": "stream",
     "text": [
      "Original List: [1, 2, 3, 4, 5]\n",
      "Rotated List: [3, 4, 5, 1, 2]\n"
     ]
    }
   ],
   "source": [
    "original = [1,2,3,4,5]\n",
    "\n",
    "number = 2\n",
    "\n",
    "def rotate(lis, n):\n",
    "    return lis[n:] + lis[:n]\n",
    "\n",
    "rotate_list = rotate(original, number)\n",
    "\n",
    "\n",
    "print(\"Original List:\", original)\n",
    "print(\"Rotated List:\", rotate_list)"
   ]
  },
  {
   "cell_type": "markdown",
   "metadata": {},
   "source": [
    "### Assignment 15: List Intersection\n",
    "\n",
    "Write a function that takes two lists and returns a new list containing only the elements that are present in both lists. Print the intersected list."
   ]
  },
  {
   "cell_type": "code",
   "execution_count": 72,
   "metadata": {},
   "outputs": [
    {
     "data": {
      "text/plain": [
       "[4, 5]"
      ]
     },
     "execution_count": 72,
     "metadata": {},
     "output_type": "execute_result"
    }
   ],
   "source": [
    "list1 = [1, 2, 3, 4, 5]\n",
    "list2 = [4, 5, 6, 7, 8]\n",
    "\n",
    "def new_list(list1, list2):\n",
    "    return list(set(list1) & set(list2))\n",
    "\n",
    "intersected = new_list(list1,list2)  \n",
    "intersected"
   ]
  }
 ],
 "metadata": {
  "kernelspec": {
   "display_name": "Python [conda env:base] *",
   "language": "python",
   "name": "conda-base-py"
  },
  "language_info": {
   "codemirror_mode": {
    "name": "ipython",
    "version": 3
   },
   "file_extension": ".py",
   "mimetype": "text/x-python",
   "name": "python",
   "nbconvert_exporter": "python",
   "pygments_lexer": "ipython3",
   "version": "3.12.7"
  }
 },
 "nbformat": 4,
 "nbformat_minor": 2
}
