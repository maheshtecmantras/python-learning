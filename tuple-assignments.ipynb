{
 "cells": [
  {
   "cell_type": "markdown",
   "id": "ece91260",
   "metadata": {},
   "source": [
    "# Module 3: Data Structures Assignments"
   ]
  },
  {
   "cell_type": "markdown",
   "id": "ccf06fcb",
   "metadata": {},
   "source": [
    "## Lesson 3.2: Tuples\n",
    "### Assignment 1: Creating and Accessing Tuples\n",
    "Create a tuple with the first 10 positive integers. Print the tuple."
   ]
  },
  {
   "cell_type": "code",
   "execution_count": 1,
   "id": "31e265c1",
   "metadata": {},
   "outputs": [
    {
     "data": {
      "text/plain": [
       "(1, 2, 3, 4, 5, 6, 7, 8, 9, 10)"
      ]
     },
     "execution_count": 1,
     "metadata": {},
     "output_type": "execute_result"
    }
   ],
   "source": [
    "number = tuple(range(1,11))\n",
    "number"
   ]
  },
  {
   "cell_type": "markdown",
   "id": "ad762efd",
   "metadata": {},
   "source": [
    "### Assignment 2: Accessing Tuple Elements\n",
    "\n",
    "Print the first, middle, and last elements of the tuple created in Assignment 1."
   ]
  },
  {
   "cell_type": "code",
   "execution_count": 7,
   "id": "faf711c5",
   "metadata": {},
   "outputs": [
    {
     "name": "stdout",
     "output_type": "stream",
     "text": [
      "First element is:  1\n",
      "middle element is:  6\n",
      "Last element is:  10\n"
     ]
    }
   ],
   "source": [
    "number = tuple(range(1,11))\n",
    "length = len(number) // 2\n",
    "\n",
    "print(\"First element is: \", number[0])\n",
    "print(\"middle element is: \", number[length])\n",
    "print(\"Last element is: \", number[-1])"
   ]
  },
  {
   "cell_type": "markdown",
   "id": "c4fd51a9",
   "metadata": {},
   "source": [
    "### Assignment 3: Tuple Slicing\n",
    "\n",
    "Print the first three elements, the last three elements, and the elements from index 2 to 5 of the tuple created in Assignment 1."
   ]
  },
  {
   "cell_type": "code",
   "execution_count": 11,
   "id": "2cb0d1da",
   "metadata": {},
   "outputs": [
    {
     "name": "stdout",
     "output_type": "stream",
     "text": [
      "First three element is:  (1, 2, 3)\n",
      "Last three element is:  (8, 9, 10)\n",
      "element start from 2 to 5 is:  (3, 4, 5)\n"
     ]
    }
   ],
   "source": [
    "number = tuple(range(1,11))\n",
    "\n",
    "print(\"First three element is: \", number[:3])\n",
    "print(\"Last three element is: \", number[-3:])\n",
    "print(\"element start from 2 to 5 is: \", number[2:5])"
   ]
  },
  {
   "cell_type": "markdown",
   "id": "2c90d53d",
   "metadata": {},
   "source": [
    "### Assignment 4: Nested Tuples\n",
    "\n",
    "Create a nested tuple representing a 3x3 matrix and print the matrix. Access and print the element at the second row and third column."
   ]
  },
  {
   "cell_type": "code",
   "execution_count": 15,
   "id": "652b0b4a",
   "metadata": {},
   "outputs": [
    {
     "name": "stdout",
     "output_type": "stream",
     "text": [
      "(1, 2, 3)\n",
      "(4, 5, 6)\n",
      "(7, 8, 9)\n",
      "Second row third column is:  6\n"
     ]
    }
   ],
   "source": [
    "matrix = [\n",
    "    (1, 2, 3),\n",
    "    (4, 5, 6),\n",
    "    (7, 8, 9)\n",
    "]\n",
    "\n",
    "for i in matrix:\n",
    "    print(i)\n",
    "\n",
    "print(\"Second row third column is: \", matrix[1][2])    "
   ]
  },
  {
   "cell_type": "markdown",
   "id": "39c8dc95",
   "metadata": {},
   "source": [
    "### Assignment 5: Tuple Concatenation\n",
    "\n",
    "Concatenate two tuples: (1, 2, 3) and (4, 5, 6). Print the resulting tuple."
   ]
  },
  {
   "cell_type": "code",
   "execution_count": 16,
   "id": "adde4e06",
   "metadata": {},
   "outputs": [
    {
     "data": {
      "text/plain": [
       "(1, 2, 3, 4, 5, 6)"
      ]
     },
     "execution_count": 16,
     "metadata": {},
     "output_type": "execute_result"
    }
   ],
   "source": [
    "tuple1 = (1,2,3)\n",
    "tuple2 = (4,5,6)\n",
    "\n",
    "contact = tuple1 + tuple2\n",
    "contact"
   ]
  },
  {
   "cell_type": "markdown",
   "id": "b68bded9",
   "metadata": {},
   "source": [
    "### Assignment 6: Tuple Methods\n",
    "\n",
    "Create a tuple with duplicate elements and count the occurrences of an element. Find the index of the first occurrence of an element in the tuple."
   ]
  },
  {
   "cell_type": "code",
   "execution_count": 18,
   "id": "f8043090",
   "metadata": {},
   "outputs": [
    {
     "name": "stdout",
     "output_type": "stream",
     "text": [
      "Apple occurrences at 3 times\n",
      "Apple first index is  0\n"
     ]
    }
   ],
   "source": [
    "fruits = ('apple', 'banana', 'apple', 'orange', 'banana', 'apple')\n",
    "\n",
    "# count how many times occurrences apple\n",
    "apple = fruits.count('apple')\n",
    "print(f\"Apple occurrences at {apple} times\")\n",
    "\n",
    "# index of apple\n",
    "apple_index = fruits.index('apple')\n",
    "print(\"Apple first index is \", apple_index)"
   ]
  },
  {
   "cell_type": "markdown",
   "id": "22bd6269",
   "metadata": {},
   "source": [
    "### Assignment 7: Unpacking Tuples\n",
    "\n",
    "Create a tuple with 5 elements and unpack it into 5 variables. Print the variables."
   ]
  },
  {
   "cell_type": "code",
   "execution_count": 19,
   "id": "bc52e68a",
   "metadata": {},
   "outputs": [
    {
     "name": "stdout",
     "output_type": "stream",
     "text": [
      "A is:  1\n",
      "B is:  2\n",
      "C is:  3\n",
      "D is:  4\n",
      "E is:  5\n"
     ]
    }
   ],
   "source": [
    "data = (1,2,3,4,5)\n",
    "\n",
    "a,b,c,d,e = data\n",
    "\n",
    "print(\"A is: \", a)\n",
    "print(\"B is: \", b)\n",
    "print(\"C is: \", c)\n",
    "print(\"D is: \", d)\n",
    "print(\"E is: \", e)"
   ]
  },
  {
   "cell_type": "markdown",
   "id": "ec62d5e8",
   "metadata": {},
   "source": [
    "### Assignment 8: Tuple Conversion\n",
    "\n",
    "Convert a list of the first 5 positive integers to a tuple. Print the tuple."
   ]
  },
  {
   "cell_type": "code",
   "execution_count": 20,
   "id": "c45d4050",
   "metadata": {},
   "outputs": [
    {
     "data": {
      "text/plain": [
       "(1, 2, 3, 4, 5)"
      ]
     },
     "execution_count": 20,
     "metadata": {},
     "output_type": "execute_result"
    }
   ],
   "source": [
    "lis = [1,2,3,4,5]\n",
    "\n",
    "list_to_tuple = tuple(lis)\n",
    "list_to_tuple"
   ]
  },
  {
   "cell_type": "markdown",
   "id": "31312455",
   "metadata": {},
   "source": [
    "### Assignment 9: Tuple of Tuples\n",
    "\n",
    "Create a tuple containing 3 tuples, each with 3 elements. Print the tuple of tuples."
   ]
  },
  {
   "cell_type": "code",
   "execution_count": 22,
   "id": "b3c5c088",
   "metadata": {},
   "outputs": [
    {
     "data": {
      "text/plain": [
       "((1, 2, 3), (4, 5, 6), (7, 8, 9))"
      ]
     },
     "execution_count": 22,
     "metadata": {},
     "output_type": "execute_result"
    }
   ],
   "source": [
    "tu1 = (1,2,3)\n",
    "tu2 = (4,5,6)\n",
    "tu3 = (7,8,9)\n",
    "\n",
    "tuple_of_tuple = (tu1, tu2, tu3)\n",
    "tuple_of_tuple"
   ]
  },
  {
   "cell_type": "markdown",
   "id": "36dd6a85",
   "metadata": {},
   "source": [
    "### Assignment 10: Tuple and List\n",
    "\n",
    "Create a tuple with the first 5 positive integers. Convert it to a list, append the number 6, and convert it back to a tuple. Print the resulting tuple."
   ]
  },
  {
   "cell_type": "code",
   "execution_count": 25,
   "id": "5e663263",
   "metadata": {},
   "outputs": [
    {
     "data": {
      "text/plain": [
       "(1, 2, 3, 4, 5, 6)"
      ]
     },
     "execution_count": 25,
     "metadata": {},
     "output_type": "execute_result"
    }
   ],
   "source": [
    "tu1 = (1,2,3,4,5)\n",
    "\n",
    "convert_to_list = list(tu1)\n",
    "convert_to_list.append(6)\n",
    "\n",
    "convert_to_tuple = tuple(convert_to_list)\n",
    "convert_to_tuple"
   ]
  },
  {
   "cell_type": "markdown",
   "id": "980e4a8d",
   "metadata": {},
   "source": [
    "### Assignment 11: Tuple and String\n",
    "\n",
    "Create a tuple with the characters of a string. Join the tuple elements into a single string. Print the string."
   ]
  },
  {
   "cell_type": "code",
   "execution_count": 31,
   "id": "2022d79f",
   "metadata": {},
   "outputs": [
    {
     "data": {
      "text/plain": [
       "'hello'"
      ]
     },
     "execution_count": 31,
     "metadata": {},
     "output_type": "execute_result"
    }
   ],
   "source": [
    "string = \"hello\"\n",
    "tup = tuple(string)\n",
    "\n",
    "joined_string = \"\".join(tup)\n",
    "joined_string"
   ]
  },
  {
   "cell_type": "markdown",
   "id": "d7f6b8f5",
   "metadata": {},
   "source": [
    "### Assignment 12: Tuple and Dictionary\n",
    "\n",
    "Create a dictionary with tuple keys and integer values. Print the dictionary."
   ]
  },
  {
   "cell_type": "code",
   "execution_count": 32,
   "id": "83e7a5f8",
   "metadata": {},
   "outputs": [
    {
     "data": {
      "text/plain": [
       "{(1, 2): 10, (3, 4): 30, (5, 6): 60}"
      ]
     },
     "execution_count": 32,
     "metadata": {},
     "output_type": "execute_result"
    }
   ],
   "source": [
    "dis = {\n",
    "    (1,2): 10,\n",
    "    (3,4): 30,\n",
    "    (5,6): 60\n",
    "}\n",
    "\n",
    "dis"
   ]
  },
  {
   "cell_type": "markdown",
   "id": "fea94a12",
   "metadata": {},
   "source": [
    "### Assignment 13: Nested Tuple Iteration\n",
    "\n",
    "Create a nested tuple and iterate over the elements, printing each element."
   ]
  },
  {
   "cell_type": "code",
   "execution_count": 34,
   "id": "a9f80b25",
   "metadata": {},
   "outputs": [
    {
     "name": "stdout",
     "output_type": "stream",
     "text": [
      "1\n",
      "2\n",
      "3\n",
      "4\n",
      "5\n",
      "6\n"
     ]
    }
   ],
   "source": [
    "nested_tuple = ((1,2), (3,4), (5,6))\n",
    "\n",
    "for i in nested_tuple:\n",
    "    for p in i:\n",
    "        print(p)"
   ]
  },
  {
   "cell_type": "markdown",
   "id": "74ab50c2",
   "metadata": {},
   "source": [
    "### Assignment 14: Tuple and Set\n",
    "\n",
    "Create a tuple with duplicate elements. Convert it to a set to remove duplicates and print the resulting set."
   ]
  },
  {
   "cell_type": "code",
   "execution_count": 35,
   "id": "42bd0d8d",
   "metadata": {},
   "outputs": [
    {
     "data": {
      "text/plain": [
       "{1, 2, 3, 4}"
      ]
     },
     "execution_count": 35,
     "metadata": {},
     "output_type": "execute_result"
    }
   ],
   "source": [
    "tup = (1,2,3,4,1,2,3)\n",
    "\n",
    "convert_to_set = set(tup)\n",
    "convert_to_set"
   ]
  },
  {
   "cell_type": "markdown",
   "id": "23f7cf56",
   "metadata": {},
   "source": [
    "### Assignment 15: Tuple Functions\n",
    "\n",
    "Write functions that take a tuple and return the minimum, maximum, and sum of the elements. Print the results for a sample tuple."
   ]
  },
  {
   "cell_type": "code",
   "execution_count": 37,
   "id": "285bb8e1",
   "metadata": {},
   "outputs": [
    {
     "name": "stdout",
     "output_type": "stream",
     "text": [
      "Minimum value is:  1\n",
      "Minimum value is:  6\n",
      "Minimum value is:  21\n"
     ]
    }
   ],
   "source": [
    "tup = (1,2,3,4,5,6)\n",
    "\n",
    "def get_min(tup):\n",
    "    return min(tup)\n",
    "\n",
    "def get_max(tup):\n",
    "    return max(tup)\n",
    "\n",
    "def get_sum(tup):\n",
    "    return sum(tup)\n",
    "\n",
    "print(\"Minimum value is: \", get_min(tup))  \n",
    "print(\"Minimum value is: \", get_max(tup))            \n",
    "print(\"Minimum value is: \", get_sum(tup))            "
   ]
  }
 ],
 "metadata": {
  "kernelspec": {
   "display_name": "Python [conda env:base] *",
   "language": "python",
   "name": "conda-base-py"
  },
  "language_info": {
   "codemirror_mode": {
    "name": "ipython",
    "version": 3
   },
   "file_extension": ".py",
   "mimetype": "text/x-python",
   "name": "python",
   "nbconvert_exporter": "python",
   "pygments_lexer": "ipython3",
   "version": "3.12.7"
  }
 },
 "nbformat": 4,
 "nbformat_minor": 5
}
